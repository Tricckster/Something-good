{
  "nbformat": 4,
  "nbformat_minor": 0,
  "metadata": {
    "colab": {
      "name": "professionalOlimpiada.ipynb",
      "provenance": [],
      "collapsed_sections": []
    },
    "kernelspec": {
      "name": "python3",
      "display_name": "Python 3"
    },
    "language_info": {
      "name": "python"
    }
  },
  "cells": [
    {
      "cell_type": "code",
      "source": [
        "\n",
        "# final version \n",
        "\n",
        "OnAllPhoto=\"\" #соединить\n",
        "meters=\"\" #соединить\n",
        "\n",
        "proba=OnAllPhoto/meters\n",
        "Per1Meter=\"\" #соединить\n",
        "fild=\"\" # соединить   в метрах\n",
        "\n",
        "M=2.3\n",
        "Colos=22\n",
        "\n",
        "res1=(10000/meters)*(Per1Meter*(proba/fild))\n",
        "res2=(fild*M*Colos*Per1Meter)/100000\n",
        "\n",
        "\n",
        "print((res1+res2)/2)"
      ],
      "metadata": {
        "colab": {
          "base_uri": "https://localhost:8080/"
        },
        "id": "bxDvrL6LRlB7",
        "outputId": "58c1629c-655a-4675-bd72-f19c8097bb51"
      },
      "execution_count": null,
      "outputs": [
        {
          "output_type": "stream",
          "name": "stdout",
          "text": [
            "22\n",
            "3\n",
            "6\n",
            "10000\n",
            "22.513333333333335\n"
          ]
        }
      ]
    }
  ]
}